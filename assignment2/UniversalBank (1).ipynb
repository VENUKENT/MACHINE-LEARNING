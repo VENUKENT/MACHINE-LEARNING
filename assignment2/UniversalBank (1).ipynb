{
  "nbformat": 4,
  "nbformat_minor": 0,
  "metadata": {
    "colab": {
      "provenance": []
    },
    "kernelspec": {
      "name": "python3",
      "display_name": "Python 3"
    },
    "language_info": {
      "name": "python"
    }
  },
  "cells": [
    {
      "cell_type": "code",
      "execution_count": null,
      "metadata": {
        "colab": {
          "base_uri": "https://localhost:8080/"
        },
        "id": "AQDv_37HynUa",
        "outputId": "6f3fc11a-8f66-4b0d-dfd2-43117f8926a3"
      },
      "outputs": [
        {
          "output_type": "stream",
          "name": "stdout",
          "text": [
            "Looking in indexes: https://pypi.org/simple, https://us-python.pkg.dev/colab-wheels/public/simple/\n",
            "Requirement already satisfied: hmmlearn in /usr/local/lib/python3.7/dist-packages (0.2.8)\n",
            "Requirement already satisfied: numpy>=1.10 in /usr/local/lib/python3.7/dist-packages (from hmmlearn) (1.21.6)\n",
            "Requirement already satisfied: scipy>=0.19 in /usr/local/lib/python3.7/dist-packages (from hmmlearn) (1.7.3)\n",
            "Requirement already satisfied: scikit-learn>=0.16 in /usr/local/lib/python3.7/dist-packages (from hmmlearn) (1.0.2)\n",
            "Requirement already satisfied: threadpoolctl>=2.0.0 in /usr/local/lib/python3.7/dist-packages (from scikit-learn>=0.16->hmmlearn) (3.1.0)\n",
            "Requirement already satisfied: joblib>=0.11 in /usr/local/lib/python3.7/dist-packages (from scikit-learn>=0.16->hmmlearn) (1.1.0)\n"
          ]
        }
      ],
      "source": [
        "import numpy as np\n",
        "import pandas as pd\n",
        "import matplotlib.pyplot as plt \n",
        "!pip install hmmlearn\n",
        "from hmmlearn import hmm\n",
        "from hmmlearn import hmm\n",
        "import seaborn as sns  \n",
        "import tensorflow as tf \n",
        "from keras.layers import Input, Dense, BatchNormalization \n",
        "from tensorflow import keras\n",
        "from tensorflow.keras import Input, Model\n",
        "from tensorflow.keras.layers import Layer,Dropout  \n",
        "from keras.layers.merge import concatenate  \n",
        "from keras.models import Sequential, Model  \n",
        "from tensorflow.keras.optimizers import Adam  \n",
        "from tensorflow.keras.utils import to_categorical  \n",
        "from sklearn.preprocessing import MinMaxScaler, LabelEncoder \n",
        "from sklearn.model_selection import train_test_split\n",
        "from sklearn.neighbors import KNeighborsRegressor\n",
        "from sklearn import preprocessing\n",
        "from sklearn.neighbors import KNeighborsClassifier\n",
        "from sklearn import metrics\n",
        "from sklearn.metrics import accuracy_score\n",
        "from sklearn.neighbors import KNeighborsClassifier\n",
        "from sklearn import metrics\n",
        "from sklearn.metrics import confusion_matrix\n",
        "from sklearn import preprocessing\n",
        "%matplotlib inline"
      ]
    },
    {
      "cell_type": "code",
      "source": [
        "from google.colab import drive\n",
        "drive.mount('/content/drive')"
      ],
      "metadata": {
        "colab": {
          "base_uri": "https://localhost:8080/"
        },
        "id": "bGRmcoQUyvUl",
        "outputId": "1ce6c612-94eb-4b92-e0fb-c000df1fb29e"
      },
      "execution_count": null,
      "outputs": [
        {
          "output_type": "stream",
          "name": "stdout",
          "text": [
            "Drive already mounted at /content/drive; to attempt to forcibly remount, call drive.mount(\"/content/drive\", force_remount=True).\n"
          ]
        }
      ]
    },
    {
      "cell_type": "code",
      "source": [
        "BD = pd.read_csv('/content/drive/MyDrive/UniversalBank.csv',delimiter=',')\n",
        "print(BD)"
      ],
      "metadata": {
        "colab": {
          "base_uri": "https://localhost:8080/"
        },
        "id": "6l5Ntc2HzKZ4",
        "outputId": "a9efc3d9-7b29-4788-ef7b-e42ca98ac53c"
      },
      "execution_count": null,
      "outputs": [
        {
          "output_type": "stream",
          "name": "stdout",
          "text": [
            "        ID  Age  Experience  Income  ZIP Code  Family  CCAvg  Education  \\\n",
            "0        1   25           1      49     91107       4    1.6          1   \n",
            "1        2   45          19      34     90089       3    1.5          1   \n",
            "2        3   39          15      11     94720       1    1.0          1   \n",
            "3        4   35           9     100     94112       1    2.7          2   \n",
            "4        5   35           8      45     91330       4    1.0          2   \n",
            "...    ...  ...         ...     ...       ...     ...    ...        ...   \n",
            "4995  4996   29           3      40     92697       1    1.9          3   \n",
            "4996  4997   30           4      15     92037       4    0.4          1   \n",
            "4997  4998   63          39      24     93023       2    0.3          3   \n",
            "4998  4999   65          40      49     90034       3    0.5          2   \n",
            "4999  5000   28           4      83     92612       3    0.8          1   \n",
            "\n",
            "      Mortgage  Personal Loan  Securities Account  CD Account  Online  \\\n",
            "0            0              0                   1           0       0   \n",
            "1            0              0                   1           0       0   \n",
            "2            0              0                   0           0       0   \n",
            "3            0              0                   0           0       0   \n",
            "4            0              0                   0           0       0   \n",
            "...        ...            ...                 ...         ...     ...   \n",
            "4995         0              0                   0           0       1   \n",
            "4996        85              0                   0           0       1   \n",
            "4997         0              0                   0           0       0   \n",
            "4998         0              0                   0           0       1   \n",
            "4999         0              0                   0           0       1   \n",
            "\n",
            "      CreditCard  \n",
            "0              0  \n",
            "1              0  \n",
            "2              0  \n",
            "3              0  \n",
            "4              1  \n",
            "...          ...  \n",
            "4995           0  \n",
            "4996           0  \n",
            "4997           0  \n",
            "4998           0  \n",
            "4999           1  \n",
            "\n",
            "[5000 rows x 14 columns]\n"
          ]
        }
      ]
    },
    {
      "cell_type": "code",
      "source": [
        "Bank=BD.drop(['ID', 'ZIP Code'],axis=1)\n",
        "print(Bank)"
      ],
      "metadata": {
        "colab": {
          "base_uri": "https://localhost:8080/"
        },
        "id": "wS3Ia-_4zYlM",
        "outputId": "5fd5c3c8-deb9-4026-bf53-b76b067a29fe"
      },
      "execution_count": null,
      "outputs": [
        {
          "output_type": "stream",
          "name": "stdout",
          "text": [
            "      Age  Experience  Income  Family  CCAvg  Education  Mortgage  \\\n",
            "0      25           1      49       4    1.6          1         0   \n",
            "1      45          19      34       3    1.5          1         0   \n",
            "2      39          15      11       1    1.0          1         0   \n",
            "3      35           9     100       1    2.7          2         0   \n",
            "4      35           8      45       4    1.0          2         0   \n",
            "...   ...         ...     ...     ...    ...        ...       ...   \n",
            "4995   29           3      40       1    1.9          3         0   \n",
            "4996   30           4      15       4    0.4          1        85   \n",
            "4997   63          39      24       2    0.3          3         0   \n",
            "4998   65          40      49       3    0.5          2         0   \n",
            "4999   28           4      83       3    0.8          1         0   \n",
            "\n",
            "      Personal Loan  Securities Account  CD Account  Online  CreditCard  \n",
            "0                 0                   1           0       0           0  \n",
            "1                 0                   1           0       0           0  \n",
            "2                 0                   0           0       0           0  \n",
            "3                 0                   0           0       0           0  \n",
            "4                 0                   0           0       0           1  \n",
            "...             ...                 ...         ...     ...         ...  \n",
            "4995              0                   0           0       1           0  \n",
            "4996              0                   0           0       1           0  \n",
            "4997              0                   0           0       0           0  \n",
            "4998              0                   0           0       1           0  \n",
            "4999              0                   0           0       1           1  \n",
            "\n",
            "[5000 rows x 12 columns]\n"
          ]
        }
      ]
    },
    {
      "cell_type": "code",
      "source": [
        "print(Bank.isnull().sum())"
      ],
      "metadata": {
        "colab": {
          "base_uri": "https://localhost:8080/"
        },
        "id": "2B-jgNrizlqc",
        "outputId": "fd230ace-8846-4d53-97dc-3d5813d6c0fe"
      },
      "execution_count": null,
      "outputs": [
        {
          "output_type": "stream",
          "name": "stdout",
          "text": [
            "Age                   0\n",
            "Experience            0\n",
            "Income                0\n",
            "Family                0\n",
            "CCAvg                 0\n",
            "Education             0\n",
            "Mortgage              0\n",
            "Personal Loan         0\n",
            "Securities Account    0\n",
            "CD Account            0\n",
            "Online                0\n",
            "CreditCard            0\n",
            "dtype: int64\n"
          ]
        }
      ]
    },
    {
      "cell_type": "code",
      "source": [
        "BD  = Bank.copy()\n",
        "BD = pd.get_dummies(Bank,columns = ['Education'])\n",
        "display(BD.head())"
      ],
      "metadata": {
        "colab": {
          "base_uri": "https://localhost:8080/",
          "height": 206
        },
        "id": "UV_TNU7fzs6F",
        "outputId": "fe6e625f-5de6-4742-96d0-a97f4a62c213"
      },
      "execution_count": null,
      "outputs": [
        {
          "output_type": "display_data",
          "data": {
            "text/plain": [
              "   Age  Experience  Income  Family  CCAvg  Mortgage  Personal Loan  \\\n",
              "0   25           1      49       4    1.6         0              0   \n",
              "1   45          19      34       3    1.5         0              0   \n",
              "2   39          15      11       1    1.0         0              0   \n",
              "3   35           9     100       1    2.7         0              0   \n",
              "4   35           8      45       4    1.0         0              0   \n",
              "\n",
              "   Securities Account  CD Account  Online  CreditCard  Education_1  \\\n",
              "0                   1           0       0           0            1   \n",
              "1                   1           0       0           0            1   \n",
              "2                   0           0       0           0            1   \n",
              "3                   0           0       0           0            0   \n",
              "4                   0           0       0           1            0   \n",
              "\n",
              "   Education_2  Education_3  \n",
              "0            0            0  \n",
              "1            0            0  \n",
              "2            0            0  \n",
              "3            1            0  \n",
              "4            1            0  "
            ],
            "text/html": [
              "\n",
              "  <div id=\"df-1bea56a5-73d0-475a-829d-d376d49e1aba\">\n",
              "    <div class=\"colab-df-container\">\n",
              "      <div>\n",
              "<style scoped>\n",
              "    .dataframe tbody tr th:only-of-type {\n",
              "        vertical-align: middle;\n",
              "    }\n",
              "\n",
              "    .dataframe tbody tr th {\n",
              "        vertical-align: top;\n",
              "    }\n",
              "\n",
              "    .dataframe thead th {\n",
              "        text-align: right;\n",
              "    }\n",
              "</style>\n",
              "<table border=\"1\" class=\"dataframe\">\n",
              "  <thead>\n",
              "    <tr style=\"text-align: right;\">\n",
              "      <th></th>\n",
              "      <th>Age</th>\n",
              "      <th>Experience</th>\n",
              "      <th>Income</th>\n",
              "      <th>Family</th>\n",
              "      <th>CCAvg</th>\n",
              "      <th>Mortgage</th>\n",
              "      <th>Personal Loan</th>\n",
              "      <th>Securities Account</th>\n",
              "      <th>CD Account</th>\n",
              "      <th>Online</th>\n",
              "      <th>CreditCard</th>\n",
              "      <th>Education_1</th>\n",
              "      <th>Education_2</th>\n",
              "      <th>Education_3</th>\n",
              "    </tr>\n",
              "  </thead>\n",
              "  <tbody>\n",
              "    <tr>\n",
              "      <th>0</th>\n",
              "      <td>25</td>\n",
              "      <td>1</td>\n",
              "      <td>49</td>\n",
              "      <td>4</td>\n",
              "      <td>1.6</td>\n",
              "      <td>0</td>\n",
              "      <td>0</td>\n",
              "      <td>1</td>\n",
              "      <td>0</td>\n",
              "      <td>0</td>\n",
              "      <td>0</td>\n",
              "      <td>1</td>\n",
              "      <td>0</td>\n",
              "      <td>0</td>\n",
              "    </tr>\n",
              "    <tr>\n",
              "      <th>1</th>\n",
              "      <td>45</td>\n",
              "      <td>19</td>\n",
              "      <td>34</td>\n",
              "      <td>3</td>\n",
              "      <td>1.5</td>\n",
              "      <td>0</td>\n",
              "      <td>0</td>\n",
              "      <td>1</td>\n",
              "      <td>0</td>\n",
              "      <td>0</td>\n",
              "      <td>0</td>\n",
              "      <td>1</td>\n",
              "      <td>0</td>\n",
              "      <td>0</td>\n",
              "    </tr>\n",
              "    <tr>\n",
              "      <th>2</th>\n",
              "      <td>39</td>\n",
              "      <td>15</td>\n",
              "      <td>11</td>\n",
              "      <td>1</td>\n",
              "      <td>1.0</td>\n",
              "      <td>0</td>\n",
              "      <td>0</td>\n",
              "      <td>0</td>\n",
              "      <td>0</td>\n",
              "      <td>0</td>\n",
              "      <td>0</td>\n",
              "      <td>1</td>\n",
              "      <td>0</td>\n",
              "      <td>0</td>\n",
              "    </tr>\n",
              "    <tr>\n",
              "      <th>3</th>\n",
              "      <td>35</td>\n",
              "      <td>9</td>\n",
              "      <td>100</td>\n",
              "      <td>1</td>\n",
              "      <td>2.7</td>\n",
              "      <td>0</td>\n",
              "      <td>0</td>\n",
              "      <td>0</td>\n",
              "      <td>0</td>\n",
              "      <td>0</td>\n",
              "      <td>0</td>\n",
              "      <td>0</td>\n",
              "      <td>1</td>\n",
              "      <td>0</td>\n",
              "    </tr>\n",
              "    <tr>\n",
              "      <th>4</th>\n",
              "      <td>35</td>\n",
              "      <td>8</td>\n",
              "      <td>45</td>\n",
              "      <td>4</td>\n",
              "      <td>1.0</td>\n",
              "      <td>0</td>\n",
              "      <td>0</td>\n",
              "      <td>0</td>\n",
              "      <td>0</td>\n",
              "      <td>0</td>\n",
              "      <td>1</td>\n",
              "      <td>0</td>\n",
              "      <td>1</td>\n",
              "      <td>0</td>\n",
              "    </tr>\n",
              "  </tbody>\n",
              "</table>\n",
              "</div>\n",
              "      <button class=\"colab-df-convert\" onclick=\"convertToInteractive('df-1bea56a5-73d0-475a-829d-d376d49e1aba')\"\n",
              "              title=\"Convert this dataframe to an interactive table.\"\n",
              "              style=\"display:none;\">\n",
              "        \n",
              "  <svg xmlns=\"http://www.w3.org/2000/svg\" height=\"24px\"viewBox=\"0 0 24 24\"\n",
              "       width=\"24px\">\n",
              "    <path d=\"M0 0h24v24H0V0z\" fill=\"none\"/>\n",
              "    <path d=\"M18.56 5.44l.94 2.06.94-2.06 2.06-.94-2.06-.94-.94-2.06-.94 2.06-2.06.94zm-11 1L8.5 8.5l.94-2.06 2.06-.94-2.06-.94L8.5 2.5l-.94 2.06-2.06.94zm10 10l.94 2.06.94-2.06 2.06-.94-2.06-.94-.94-2.06-.94 2.06-2.06.94z\"/><path d=\"M17.41 7.96l-1.37-1.37c-.4-.4-.92-.59-1.43-.59-.52 0-1.04.2-1.43.59L10.3 9.45l-7.72 7.72c-.78.78-.78 2.05 0 2.83L4 21.41c.39.39.9.59 1.41.59.51 0 1.02-.2 1.41-.59l7.78-7.78 2.81-2.81c.8-.78.8-2.07 0-2.86zM5.41 20L4 18.59l7.72-7.72 1.47 1.35L5.41 20z\"/>\n",
              "  </svg>\n",
              "      </button>\n",
              "      \n",
              "  <style>\n",
              "    .colab-df-container {\n",
              "      display:flex;\n",
              "      flex-wrap:wrap;\n",
              "      gap: 12px;\n",
              "    }\n",
              "\n",
              "    .colab-df-convert {\n",
              "      background-color: #E8F0FE;\n",
              "      border: none;\n",
              "      border-radius: 50%;\n",
              "      cursor: pointer;\n",
              "      display: none;\n",
              "      fill: #1967D2;\n",
              "      height: 32px;\n",
              "      padding: 0 0 0 0;\n",
              "      width: 32px;\n",
              "    }\n",
              "\n",
              "    .colab-df-convert:hover {\n",
              "      background-color: #E2EBFA;\n",
              "      box-shadow: 0px 1px 2px rgba(60, 64, 67, 0.3), 0px 1px 3px 1px rgba(60, 64, 67, 0.15);\n",
              "      fill: #174EA6;\n",
              "    }\n",
              "\n",
              "    [theme=dark] .colab-df-convert {\n",
              "      background-color: #3B4455;\n",
              "      fill: #D2E3FC;\n",
              "    }\n",
              "\n",
              "    [theme=dark] .colab-df-convert:hover {\n",
              "      background-color: #434B5C;\n",
              "      box-shadow: 0px 1px 3px 1px rgba(0, 0, 0, 0.15);\n",
              "      filter: drop-shadow(0px 1px 2px rgba(0, 0, 0, 0.3));\n",
              "      fill: #FFFFFF;\n",
              "    }\n",
              "  </style>\n",
              "\n",
              "      <script>\n",
              "        const buttonEl =\n",
              "          document.querySelector('#df-1bea56a5-73d0-475a-829d-d376d49e1aba button.colab-df-convert');\n",
              "        buttonEl.style.display =\n",
              "          google.colab.kernel.accessAllowed ? 'block' : 'none';\n",
              "\n",
              "        async function convertToInteractive(key) {\n",
              "          const element = document.querySelector('#df-1bea56a5-73d0-475a-829d-d376d49e1aba');\n",
              "          const dataTable =\n",
              "            await google.colab.kernel.invokeFunction('convertToInteractive',\n",
              "                                                     [key], {});\n",
              "          if (!dataTable) return;\n",
              "\n",
              "          const docLinkHtml = 'Like what you see? Visit the ' +\n",
              "            '<a target=\"_blank\" href=https://colab.research.google.com/notebooks/data_table.ipynb>data table notebook</a>'\n",
              "            + ' to learn more about interactive tables.';\n",
              "          element.innerHTML = '';\n",
              "          dataTable['output_type'] = 'display_data';\n",
              "          await google.colab.output.renderOutput(dataTable, element);\n",
              "          const docLink = document.createElement('div');\n",
              "          docLink.innerHTML = docLinkHtml;\n",
              "          element.appendChild(docLink);\n",
              "        }\n",
              "      </script>\n",
              "    </div>\n",
              "  </div>\n",
              "  "
            ]
          },
          "metadata": {}
        }
      ]
    },
    {
      "cell_type": "code",
      "source": [
        "Pos = BD.pop(\"Personal Loan\")\n",
        "BD.insert(13, \"Personal Loan\", Pos)\n",
        "print(BD)"
      ],
      "metadata": {
        "colab": {
          "base_uri": "https://localhost:8080/"
        },
        "id": "PkhgIam4z4Tv",
        "outputId": "7347de0d-6471-4ebd-c0b6-8544cbda4169"
      },
      "execution_count": null,
      "outputs": [
        {
          "output_type": "stream",
          "name": "stdout",
          "text": [
            "      Age  Experience  Income  Family  CCAvg  Mortgage  Securities Account  \\\n",
            "0      25           1      49       4    1.6         0                   1   \n",
            "1      45          19      34       3    1.5         0                   1   \n",
            "2      39          15      11       1    1.0         0                   0   \n",
            "3      35           9     100       1    2.7         0                   0   \n",
            "4      35           8      45       4    1.0         0                   0   \n",
            "...   ...         ...     ...     ...    ...       ...                 ...   \n",
            "4995   29           3      40       1    1.9         0                   0   \n",
            "4996   30           4      15       4    0.4        85                   0   \n",
            "4997   63          39      24       2    0.3         0                   0   \n",
            "4998   65          40      49       3    0.5         0                   0   \n",
            "4999   28           4      83       3    0.8         0                   0   \n",
            "\n",
            "      CD Account  Online  CreditCard  Education_1  Education_2  Education_3  \\\n",
            "0              0       0           0            1            0            0   \n",
            "1              0       0           0            1            0            0   \n",
            "2              0       0           0            1            0            0   \n",
            "3              0       0           0            0            1            0   \n",
            "4              0       0           1            0            1            0   \n",
            "...          ...     ...         ...          ...          ...          ...   \n",
            "4995           0       1           0            0            0            1   \n",
            "4996           0       1           0            1            0            0   \n",
            "4997           0       0           0            0            0            1   \n",
            "4998           0       1           0            0            1            0   \n",
            "4999           0       1           1            1            0            0   \n",
            "\n",
            "      Personal Loan  \n",
            "0                 0  \n",
            "1                 0  \n",
            "2                 0  \n",
            "3                 0  \n",
            "4                 0  \n",
            "...             ...  \n",
            "4995              0  \n",
            "4996              0  \n",
            "4997              0  \n",
            "4998              0  \n",
            "4999              0  \n",
            "\n",
            "[5000 rows x 14 columns]\n"
          ]
        }
      ]
    },
    {
      "cell_type": "code",
      "source": [
        "X = BD.drop(\"Personal Loan\", axis=1)\n",
        "X = X.values \n",
        "y = BD[\"Personal Loan\"]\n",
        "y = y.values"
      ],
      "metadata": {
        "id": "TXBzQ1FL0Glb"
      },
      "execution_count": null,
      "outputs": []
    },
    {
      "cell_type": "code",
      "source": [
        "from sklearn.model_selection import train_test_split\n",
        "X_train, X_test, y_train, y_test = train_test_split(\n",
        "X, y, test_size=0.4, random_state=1)"
      ],
      "metadata": {
        "id": "_WlNOjoj0SAp"
      },
      "execution_count": null,
      "outputs": []
    },
    {
      "cell_type": "code",
      "source": [
        "from sklearn import preprocessing\n",
        "import numpy as np\n",
        "x_array = np.array([40,10,84,2,2,0,0,0,1,1,0,1,0])\n",
        "normalized_arr = preprocessing.normalize([x_array])\n",
        "print(normalized_arr)"
      ],
      "metadata": {
        "colab": {
          "base_uri": "https://localhost:8080/"
        },
        "id": "rLsv-9n00XlB",
        "outputId": "19738084-9aed-4142-f0f5-5b710669c141"
      },
      "execution_count": null,
      "outputs": [
        {
          "output_type": "stream",
          "name": "stdout",
          "text": [
            "[[0.42720319 0.1068008  0.8971267  0.02136016 0.02136016 0.\n",
            "  0.         0.         0.01068008 0.01068008 0.         0.01068008\n",
            "  0.        ]]\n"
          ]
        }
      ]
    },
    {
      "cell_type": "code",
      "source": [
        "data = np.array([40,10,84,2,2,0,0,0,1,1,0,1,0])"
      ],
      "metadata": {
        "id": "jcr4_bQZ1G84"
      },
      "execution_count": null,
      "outputs": []
    },
    {
      "cell_type": "code",
      "source": [
        "distance = np.linalg.norm(X - data, axis=1)"
      ],
      "metadata": {
        "id": "JtBNIiSk1HAY"
      },
      "execution_count": null,
      "outputs": []
    },
    {
      "cell_type": "code",
      "source": [
        "k = 35\n",
        "nearest_ids = distance.argsort()[:k]\n",
        "nearest_ids"
      ],
      "metadata": {
        "colab": {
          "base_uri": "https://localhost:8080/"
        },
        "id": "KRDNwu-_0cAJ",
        "outputId": "52f922ce-de26-4dd5-e05b-c11d808f481e"
      },
      "execution_count": null,
      "outputs": [
        {
          "output_type": "execute_result",
          "data": {
            "text/plain": [
              "array([ 700, 2827, 4926, 3393, 2786, 4615, 2086, 4771, 2640, 2301, 4624,\n",
              "       4335,  123, 2306,  766, 1976, 4034,  487, 4296, 3756, 3272,  416,\n",
              "       1401, 3152, 4495, 4487,  542, 4588, 4202,  529, 1598, 1416, 3211,\n",
              "        738, 1526])"
            ]
          },
          "metadata": {},
          "execution_count": 44
        }
      ]
    },
    {
      "cell_type": "code",
      "source": [
        "nearestPersonal_Loan = y[nearest_ids]\n",
        "nearestPersonal_Loan"
      ],
      "metadata": {
        "colab": {
          "base_uri": "https://localhost:8080/"
        },
        "id": "1H5sCiFm1CXf",
        "outputId": "45dbf3af-194f-4275-a622-872d09e3697a"
      },
      "execution_count": null,
      "outputs": [
        {
          "output_type": "execute_result",
          "data": {
            "text/plain": [
              "array([0, 0, 0, 0, 0, 0, 0, 0, 0, 0, 0, 0, 0, 0, 0, 0, 0, 0, 0, 0, 0, 0,\n",
              "       0, 0, 0, 0, 0, 0, 0, 0, 0, 0, 0, 0, 0])"
            ]
          },
          "metadata": {},
          "execution_count": 45
        }
      ]
    },
    {
      "cell_type": "code",
      "source": [
        "predict = nearest_neighbor_Personal_Loan.mean()\n",
        "predict"
      ],
      "metadata": {
        "colab": {
          "base_uri": "https://localhost:8080/"
        },
        "id": "ukHxn6dS1Ny9",
        "outputId": "68d54734-2e11-4870-adbe-a9f1d5a6961c"
      },
      "execution_count": null,
      "outputs": [
        {
          "output_type": "execute_result",
          "data": {
            "text/plain": [
              "0.0"
            ]
          },
          "metadata": {},
          "execution_count": 46
        }
      ]
    },
    {
      "cell_type": "code",
      "source": [
        "from sklearn.neighbors import KNeighborsRegressor\n",
        "knn_model = KNeighborsRegressor(n_neighbors=35)\n",
        "knn_model.fit(X_train, y_train)"
      ],
      "metadata": {
        "colab": {
          "base_uri": "https://localhost:8080/"
        },
        "id": "SHqREbRk1QWi",
        "outputId": "119ad0e1-9766-4035-e3f8-e9211e26c2b9"
      },
      "execution_count": null,
      "outputs": [
        {
          "output_type": "execute_result",
          "data": {
            "text/plain": [
              "KNeighborsRegressor(n_neighbors=35)"
            ]
          },
          "metadata": {},
          "execution_count": 47
        }
      ]
    },
    {
      "cell_type": "code",
      "source": [
        "from sklearn.neighbors import KNeighborsClassifier\n",
        "from sklearn import metrics\n",
        "from sklearn.metrics import accuracy_score\n",
        "results = []\n",
        "for k in range(1, 36):\n",
        "    knn = KNeighborsClassifier(n_neighbors=k).fit(X_train, y_train)\n",
        "    results.append({\n",
        "        'k': k,\n",
        "        'accuracy': accuracy_score(y_test, knn.predict(X_test))\n",
        "    })\n",
        "\n",
        "# Convert results to a pandas data frame\n",
        "results = pd.DataFrame(results)\n",
        "print(results)"
      ],
      "metadata": {
        "colab": {
          "base_uri": "https://localhost:8080/"
        },
        "id": "Ia1op0YB1Ssa",
        "outputId": "ce3f7804-e46f-4cb9-d7e1-99bbda034572"
      },
      "execution_count": null,
      "outputs": [
        {
          "output_type": "stream",
          "name": "stdout",
          "text": [
            "     k  accuracy\n",
            "0    1    0.9000\n",
            "1    2    0.9065\n",
            "2    3    0.9040\n",
            "3    4    0.9075\n",
            "4    5    0.9055\n",
            "5    6    0.9050\n",
            "6    7    0.9045\n",
            "7    8    0.9045\n",
            "8    9    0.9090\n",
            "9   10    0.9045\n",
            "10  11    0.9030\n",
            "11  12    0.9070\n",
            "12  13    0.9065\n",
            "13  14    0.9060\n",
            "14  15    0.9040\n",
            "15  16    0.9045\n",
            "16  17    0.9060\n",
            "17  18    0.9055\n",
            "18  19    0.9070\n",
            "19  20    0.9045\n",
            "20  21    0.9045\n",
            "21  22    0.9085\n",
            "22  23    0.9070\n",
            "23  24    0.9115\n",
            "24  25    0.9110\n",
            "25  26    0.9110\n",
            "26  27    0.9115\n",
            "27  28    0.9125\n",
            "28  29    0.9125\n",
            "29  30    0.9095\n",
            "30  31    0.9120\n",
            "31  32    0.9080\n",
            "32  33    0.9080\n",
            "33  34    0.9045\n",
            "34  35    0.9065\n"
          ]
        }
      ]
    },
    {
      "cell_type": "code",
      "source": [
        "from sklearn.metrics import confusion_matrix\n",
        "clf=KNeighborsClassifier(n_neighbors=35)\n",
        "clf.fit(X_train,y_train)\n",
        "predicted_value=clf.predict(X_test)\n",
        "con_mat=confusion_matrix(y_test,predicted_value)\n",
        "sns.heatmap(con_mat,annot=True,annot_kws= \n",
        "                           {\"size\":20},cbar=False,fmt='g',cmap=\"viridis\")\n",
        "plt.show()"
      ],
      "metadata": {
        "colab": {
          "base_uri": "https://localhost:8080/",
          "height": 265
        },
        "id": "KES6Mf471uAz",
        "outputId": "d5f0fc8a-c8d7-482b-d3cb-5218e4dd4105"
      },
      "execution_count": null,
      "outputs": [
        {
          "output_type": "display_data",
          "data": {
            "text/plain": [
              "<Figure size 432x288 with 1 Axes>"
            ],
            "image/png": "[encoded data removed]"
          },
          "metadata": {
            "needs_background": "light"
          }
        }
      ]
    },
    {
      "cell_type": "code",
      "source": [
        "train_df, temp_df = train_test_split(BD, test_size=0.5, random_state=1)\n",
        "valid_df, test_df = train_test_split(temp_df, test_size=0.4, random_state=1)\n",
        "print('Training dataset', train_df.shape)\n",
        "print('Validation dataset', valid_df.shape)\n",
        "print('Test dataset', test_df.shape)"
      ],
      "metadata": {
        "colab": {
          "base_uri": "https://localhost:8080/"
        },
        "id": "MFymsk_z1ytH",
        "outputId": "abc0e24b-2e51-425a-9d8a-114a8f1bc93b"
      },
      "execution_count": null,
      "outputs": [
        {
          "output_type": "stream",
          "name": "stdout",
          "text": [
            "Training dataset (2500, 14)\n",
            "Validation dataset (1500, 14)\n",
            "Test dataset (1000, 14)\n"
          ]
        }
      ]
    },
    {
      "cell_type": "code",
      "source": [
        "from sklearn import preprocessing\n",
        "outcome = 'Personal Loan'\n",
        "predictors = list(BD.columns)\n",
        "predictors.remove(outcome)\n",
        "Scaler = preprocessing.StandardScaler()\n",
        "Scaler.fit(train_df[predictors])\n",
        "train_x = Scaler.transform(train_df[predictors])\n",
        "train_y = train_df[outcome]\n",
        "valid_x = Scaler.transform(valid_df[predictors])\n",
        "valid_y = valid_df[outcome]\n",
        "test_x = Scaler.transform(test_df[predictors])\n",
        "test_y = test_df[outcome]"
      ],
      "metadata": {
        "id": "9FX8EmIY12TT"
      },
      "execution_count": null,
      "outputs": []
    },
    {
      "cell_type": "code",
      "source": [
        "classifier = KNeighborsClassifier(n_neighbors=35)\n",
        "classifier.fit(train_x, train_y)"
      ],
      "metadata": {
        "colab": {
          "base_uri": "https://localhost:8080/"
        },
        "id": "_knQmReJ1_Y3",
        "outputId": "a2ee5aa4-feb4-40ba-e276-e12a1b25542f"
      },
      "execution_count": null,
      "outputs": [
        {
          "output_type": "execute_result",
          "data": {
            "text/plain": [
              "KNeighborsClassifier(n_neighbors=35)"
            ]
          },
          "metadata": {},
          "execution_count": 54
        }
      ]
    },
    {
      "cell_type": "code",
      "source": [
        "knnPred = classifier.predict(train_x)\n",
        "print(confusion_matrix(train_y, knnPred))\n",
        "print('Accuracy:--', accuracy_score(train_y, knnPredOpt))"
      ],
      "metadata": {
        "colab": {
          "base_uri": "https://localhost:8080/"
        },
        "id": "ZzZFRkT12Ftg",
        "outputId": "5d8f52d0-3782-4fac-b41a-a0c9fd392d2b"
      },
      "execution_count": null,
      "outputs": [
        {
          "output_type": "stream",
          "name": "stdout",
          "text": [
            "[[2257    2]\n",
            " [ 141  100]]\n",
            "Accuracy:-- 0.9428\n"
          ]
        }
      ]
    },
    {
      "cell_type": "code",
      "source": [
        "knnPred = classifier.predict(valid_x)\n",
        "print(confusion_matrix(valid_y, knnPred))\n",
        "print('Accuracy--', accuracy_score(valid_y, knnPred))"
      ],
      "metadata": {
        "colab": {
          "base_uri": "https://localhost:8080/"
        },
        "id": "KGBrE3U82Iaj",
        "outputId": "3b136473-97cf-4590-af90-dbe29f8e19cb"
      },
      "execution_count": null,
      "outputs": [
        {
          "output_type": "stream",
          "name": "stdout",
          "text": [
            "[[1346    3]\n",
            " [ 105   46]]\n",
            "Accuracy-- 0.928\n"
          ]
        }
      ]
    },
    {
      "cell_type": "code",
      "source": [
        "knnPred = classifier.predict(test_x)\n",
        "print(confusion_matrix(test_y, knnPred))\n",
        "print('Accuracy--', accuracy_score(test_y, knnPred))"
      ],
      "metadata": {
        "colab": {
          "base_uri": "https://localhost:8080/"
        },
        "id": "Nh7aYM9W2MzH",
        "outputId": "228c63b1-637e-4d23-8741-0e38ed61fa25"
      },
      "execution_count": null,
      "outputs": [
        {
          "output_type": "stream",
          "name": "stdout",
          "text": [
            "[[908   4]\n",
            " [ 57  31]]\n",
            "Accuracy-- 0.939\n"
          ]
        }
      ]
    },
    {
      "cell_type": "code",
      "source": [],
      "metadata": {
        "id": "yVnPmJC32PGg"
      },
      "execution_count": null,
      "outputs": []
    }
  ]
}